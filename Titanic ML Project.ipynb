{
 "cells": [
  {
   "cell_type": "code",
   "execution_count": 69,
   "id": "4c883d1e",
   "metadata": {},
   "outputs": [],
   "source": [
    "import numpy as np\n",
    "import pandas as pd\n",
    "from sklearn.ensemble import RandomForestClassifier\n",
    "from sklearn.tree import export_graphviz\n",
    "from sklearn.model_selection import GridSearchCV\n",
    "from sklearn.utils import shuffle\n",
    "from sklearn import linear_model\n",
    "import matplotlib.pyplot as plt\n"
   ]
  },
  {
   "cell_type": "code",
   "execution_count": 2,
   "id": "a89661a3",
   "metadata": {},
   "outputs": [],
   "source": [
    "df = pd.read_csv('C:\\\\Users\\\\Naveen Kumar\\\\OneDrive - RxLogix\\\\Documents\\\\PersoMe\\\\MLcodes\\\\Titanic ML\\\\train.csv')"
   ]
  },
  {
   "cell_type": "code",
   "execution_count": 3,
   "id": "09578e3f",
   "metadata": {},
   "outputs": [
    {
     "data": {
      "text/html": [
       "<div>\n",
       "<style scoped>\n",
       "    .dataframe tbody tr th:only-of-type {\n",
       "        vertical-align: middle;\n",
       "    }\n",
       "\n",
       "    .dataframe tbody tr th {\n",
       "        vertical-align: top;\n",
       "    }\n",
       "\n",
       "    .dataframe thead th {\n",
       "        text-align: right;\n",
       "    }\n",
       "</style>\n",
       "<table border=\"1\" class=\"dataframe\">\n",
       "  <thead>\n",
       "    <tr style=\"text-align: right;\">\n",
       "      <th></th>\n",
       "      <th>PassengerId</th>\n",
       "      <th>Survived</th>\n",
       "      <th>Pclass</th>\n",
       "      <th>Name</th>\n",
       "      <th>Sex</th>\n",
       "      <th>Age</th>\n",
       "      <th>SibSp</th>\n",
       "      <th>Parch</th>\n",
       "      <th>Ticket</th>\n",
       "      <th>Fare</th>\n",
       "      <th>Cabin</th>\n",
       "      <th>Embarked</th>\n",
       "    </tr>\n",
       "  </thead>\n",
       "  <tbody>\n",
       "    <tr>\n",
       "      <th>0</th>\n",
       "      <td>1</td>\n",
       "      <td>0</td>\n",
       "      <td>3</td>\n",
       "      <td>Braund, Mr. Owen Harris</td>\n",
       "      <td>male</td>\n",
       "      <td>22.0</td>\n",
       "      <td>1</td>\n",
       "      <td>0</td>\n",
       "      <td>A/5 21171</td>\n",
       "      <td>7.2500</td>\n",
       "      <td>NaN</td>\n",
       "      <td>S</td>\n",
       "    </tr>\n",
       "    <tr>\n",
       "      <th>1</th>\n",
       "      <td>2</td>\n",
       "      <td>1</td>\n",
       "      <td>1</td>\n",
       "      <td>Cumings, Mrs. John Bradley (Florence Briggs Th...</td>\n",
       "      <td>female</td>\n",
       "      <td>38.0</td>\n",
       "      <td>1</td>\n",
       "      <td>0</td>\n",
       "      <td>PC 17599</td>\n",
       "      <td>71.2833</td>\n",
       "      <td>C85</td>\n",
       "      <td>C</td>\n",
       "    </tr>\n",
       "    <tr>\n",
       "      <th>2</th>\n",
       "      <td>3</td>\n",
       "      <td>1</td>\n",
       "      <td>3</td>\n",
       "      <td>Heikkinen, Miss. Laina</td>\n",
       "      <td>female</td>\n",
       "      <td>26.0</td>\n",
       "      <td>0</td>\n",
       "      <td>0</td>\n",
       "      <td>STON/O2. 3101282</td>\n",
       "      <td>7.9250</td>\n",
       "      <td>NaN</td>\n",
       "      <td>S</td>\n",
       "    </tr>\n",
       "    <tr>\n",
       "      <th>3</th>\n",
       "      <td>4</td>\n",
       "      <td>1</td>\n",
       "      <td>1</td>\n",
       "      <td>Futrelle, Mrs. Jacques Heath (Lily May Peel)</td>\n",
       "      <td>female</td>\n",
       "      <td>35.0</td>\n",
       "      <td>1</td>\n",
       "      <td>0</td>\n",
       "      <td>113803</td>\n",
       "      <td>53.1000</td>\n",
       "      <td>C123</td>\n",
       "      <td>S</td>\n",
       "    </tr>\n",
       "    <tr>\n",
       "      <th>4</th>\n",
       "      <td>5</td>\n",
       "      <td>0</td>\n",
       "      <td>3</td>\n",
       "      <td>Allen, Mr. William Henry</td>\n",
       "      <td>male</td>\n",
       "      <td>35.0</td>\n",
       "      <td>0</td>\n",
       "      <td>0</td>\n",
       "      <td>373450</td>\n",
       "      <td>8.0500</td>\n",
       "      <td>NaN</td>\n",
       "      <td>S</td>\n",
       "    </tr>\n",
       "  </tbody>\n",
       "</table>\n",
       "</div>"
      ],
      "text/plain": [
       "   PassengerId  Survived  Pclass  \\\n",
       "0            1         0       3   \n",
       "1            2         1       1   \n",
       "2            3         1       3   \n",
       "3            4         1       1   \n",
       "4            5         0       3   \n",
       "\n",
       "                                                Name     Sex   Age  SibSp  \\\n",
       "0                            Braund, Mr. Owen Harris    male  22.0      1   \n",
       "1  Cumings, Mrs. John Bradley (Florence Briggs Th...  female  38.0      1   \n",
       "2                             Heikkinen, Miss. Laina  female  26.0      0   \n",
       "3       Futrelle, Mrs. Jacques Heath (Lily May Peel)  female  35.0      1   \n",
       "4                           Allen, Mr. William Henry    male  35.0      0   \n",
       "\n",
       "   Parch            Ticket     Fare Cabin Embarked  \n",
       "0      0         A/5 21171   7.2500   NaN        S  \n",
       "1      0          PC 17599  71.2833   C85        C  \n",
       "2      0  STON/O2. 3101282   7.9250   NaN        S  \n",
       "3      0            113803  53.1000  C123        S  \n",
       "4      0            373450   8.0500   NaN        S  "
      ]
     },
     "execution_count": 3,
     "metadata": {},
     "output_type": "execute_result"
    }
   ],
   "source": [
    "df.head()"
   ]
  },
  {
   "cell_type": "code",
   "execution_count": 4,
   "id": "d24c25aa",
   "metadata": {},
   "outputs": [
    {
     "data": {
      "text/plain": [
       "177"
      ]
     },
     "execution_count": 4,
     "metadata": {},
     "output_type": "execute_result"
    }
   ],
   "source": [
    "df['Age'].isna().sum()"
   ]
  },
  {
   "cell_type": "code",
   "execution_count": 5,
   "id": "12f0f7d6",
   "metadata": {},
   "outputs": [],
   "source": [
    "df_use = df.drop(columns = ['Name','Ticket','Cabin'])"
   ]
  },
  {
   "cell_type": "code",
   "execution_count": 55,
   "id": "e4beaa47",
   "metadata": {},
   "outputs": [
    {
     "data": {
      "text/html": [
       "<div>\n",
       "<style scoped>\n",
       "    .dataframe tbody tr th:only-of-type {\n",
       "        vertical-align: middle;\n",
       "    }\n",
       "\n",
       "    .dataframe tbody tr th {\n",
       "        vertical-align: top;\n",
       "    }\n",
       "\n",
       "    .dataframe thead th {\n",
       "        text-align: right;\n",
       "    }\n",
       "</style>\n",
       "<table border=\"1\" class=\"dataframe\">\n",
       "  <thead>\n",
       "    <tr style=\"text-align: right;\">\n",
       "      <th></th>\n",
       "      <th>PassengerId</th>\n",
       "      <th>Survived</th>\n",
       "      <th>Pclass</th>\n",
       "      <th>Sex</th>\n",
       "      <th>Age</th>\n",
       "      <th>SibSp</th>\n",
       "      <th>Parch</th>\n",
       "      <th>Fare</th>\n",
       "      <th>Embarked</th>\n",
       "    </tr>\n",
       "  </thead>\n",
       "  <tbody>\n",
       "    <tr>\n",
       "      <th>0</th>\n",
       "      <td>1</td>\n",
       "      <td>0</td>\n",
       "      <td>3</td>\n",
       "      <td>male</td>\n",
       "      <td>22.0</td>\n",
       "      <td>1</td>\n",
       "      <td>0</td>\n",
       "      <td>7.2500</td>\n",
       "      <td>S</td>\n",
       "    </tr>\n",
       "    <tr>\n",
       "      <th>1</th>\n",
       "      <td>2</td>\n",
       "      <td>1</td>\n",
       "      <td>1</td>\n",
       "      <td>female</td>\n",
       "      <td>38.0</td>\n",
       "      <td>1</td>\n",
       "      <td>0</td>\n",
       "      <td>71.2833</td>\n",
       "      <td>C</td>\n",
       "    </tr>\n",
       "    <tr>\n",
       "      <th>2</th>\n",
       "      <td>3</td>\n",
       "      <td>1</td>\n",
       "      <td>3</td>\n",
       "      <td>female</td>\n",
       "      <td>26.0</td>\n",
       "      <td>0</td>\n",
       "      <td>0</td>\n",
       "      <td>7.9250</td>\n",
       "      <td>S</td>\n",
       "    </tr>\n",
       "    <tr>\n",
       "      <th>3</th>\n",
       "      <td>4</td>\n",
       "      <td>1</td>\n",
       "      <td>1</td>\n",
       "      <td>female</td>\n",
       "      <td>35.0</td>\n",
       "      <td>1</td>\n",
       "      <td>0</td>\n",
       "      <td>53.1000</td>\n",
       "      <td>S</td>\n",
       "    </tr>\n",
       "    <tr>\n",
       "      <th>4</th>\n",
       "      <td>5</td>\n",
       "      <td>0</td>\n",
       "      <td>3</td>\n",
       "      <td>male</td>\n",
       "      <td>35.0</td>\n",
       "      <td>0</td>\n",
       "      <td>0</td>\n",
       "      <td>8.0500</td>\n",
       "      <td>S</td>\n",
       "    </tr>\n",
       "  </tbody>\n",
       "</table>\n",
       "</div>"
      ],
      "text/plain": [
       "   PassengerId  Survived  Pclass     Sex   Age  SibSp  Parch     Fare Embarked\n",
       "0            1         0       3    male  22.0      1      0   7.2500        S\n",
       "1            2         1       1  female  38.0      1      0  71.2833        C\n",
       "2            3         1       3  female  26.0      0      0   7.9250        S\n",
       "3            4         1       1  female  35.0      1      0  53.1000        S\n",
       "4            5         0       3    male  35.0      0      0   8.0500        S"
      ]
     },
     "execution_count": 55,
     "metadata": {},
     "output_type": "execute_result"
    }
   ],
   "source": [
    "df_use.head()"
   ]
  },
  {
   "cell_type": "code",
   "execution_count": 37,
   "id": "cf8fd9d1",
   "metadata": {},
   "outputs": [],
   "source": [
    "df_grp = df_use[['Survived','Sex']].groupby('Sex').sum()"
   ]
  },
  {
   "cell_type": "code",
   "execution_count": 68,
   "id": "984a00d9",
   "metadata": {},
   "outputs": [
    {
     "data": {
      "text/plain": [
       "(array([732., 106.,  31.,   2.,  11.,   6.,   0.,   0.,   0.,   3.]),\n",
       " array([  0.     ,  51.23292, 102.46584, 153.69876, 204.93168, 256.1646 ,\n",
       "        307.39752, 358.63044, 409.86336, 461.09628, 512.3292 ]),\n",
       " <BarContainer object of 10 artists>)"
      ]
     },
     "execution_count": 68,
     "metadata": {},
     "output_type": "execute_result"
    },
    {
     "data": {
      "image/png": "[encoded data removed]",
      "text/plain": [
       "<Figure size 432x288 with 1 Axes>"
      ]
     },
     "metadata": {
      "needs_background": "light"
     },
     "output_type": "display_data"
    }
   ],
   "source": [
    "plt.hist(df_use.Fare)"
   ]
  },
  {
   "cell_type": "code",
   "execution_count": 42,
   "id": "2a9c3555",
   "metadata": {},
   "outputs": [
    {
     "name": "stdout",
     "output_type": "stream",
     "text": [
      "      Sex  Survived\n",
      "0  female       233\n",
      "1    male       109\n"
     ]
    }
   ],
   "source": [
    "print(df_grp)"
   ]
  },
  {
   "cell_type": "code",
   "execution_count": 41,
   "id": "a26a0ac2",
   "metadata": {},
   "outputs": [],
   "source": [
    "df_grp.reset_index(inplace = True)"
   ]
  },
  {
   "cell_type": "code",
   "execution_count": 44,
   "id": "3a78aea5",
   "metadata": {},
   "outputs": [
    {
     "data": {
      "text/plain": [
       "Text(0.5, 1.0, 'Suvived vs Sex')"
      ]
     },
     "execution_count": 44,
     "metadata": {},
     "output_type": "execute_result"
    },
    {
     "data": {
      "image/png": "[encoded data removed]",
      "text/plain": [
       "<Figure size 432x288 with 1 Axes>"
      ]
     },
     "metadata": {
      "needs_background": "light"
     },
     "output_type": "display_data"
    }
   ],
   "source": [
    "plt.bar(df_grp.Sex, df_grp.Survived)\n",
    "plt.xlabel('Sex')\n",
    "plt.ylabel('Survived')\n",
    "plt.title('Suvived vs Sex')"
   ]
  },
  {
   "cell_type": "code",
   "execution_count": 47,
   "id": "82f46498",
   "metadata": {},
   "outputs": [],
   "source": [
    "df_grp2 = df_use[['Survived','Age']].groupby('Survived').mean()"
   ]
  },
  {
   "cell_type": "code",
   "execution_count": 48,
   "id": "4e26e3f1",
   "metadata": {},
   "outputs": [
    {
     "data": {
      "text/html": [
       "<div>\n",
       "<style scoped>\n",
       "    .dataframe tbody tr th:only-of-type {\n",
       "        vertical-align: middle;\n",
       "    }\n",
       "\n",
       "    .dataframe tbody tr th {\n",
       "        vertical-align: top;\n",
       "    }\n",
       "\n",
       "    .dataframe thead th {\n",
       "        text-align: right;\n",
       "    }\n",
       "</style>\n",
       "<table border=\"1\" class=\"dataframe\">\n",
       "  <thead>\n",
       "    <tr style=\"text-align: right;\">\n",
       "      <th></th>\n",
       "      <th>Age</th>\n",
       "    </tr>\n",
       "    <tr>\n",
       "      <th>Survived</th>\n",
       "      <th></th>\n",
       "    </tr>\n",
       "  </thead>\n",
       "  <tbody>\n",
       "    <tr>\n",
       "      <th>0</th>\n",
       "      <td>30.626179</td>\n",
       "    </tr>\n",
       "    <tr>\n",
       "      <th>1</th>\n",
       "      <td>28.343690</td>\n",
       "    </tr>\n",
       "  </tbody>\n",
       "</table>\n",
       "</div>"
      ],
      "text/plain": [
       "                Age\n",
       "Survived           \n",
       "0         30.626179\n",
       "1         28.343690"
      ]
     },
     "execution_count": 48,
     "metadata": {},
     "output_type": "execute_result"
    }
   ],
   "source": [
    "df_grp2"
   ]
  },
  {
   "cell_type": "code",
   "execution_count": 51,
   "id": "07a52918",
   "metadata": {},
   "outputs": [
    {
     "data": {
      "text/plain": [
       "(array([ 18.,  16.,  99., 110.,  64.,  45.,  38.,  15.,  13.,   6.]),\n",
       " array([ 1. ,  8.3, 15.6, 22.9, 30.2, 37.5, 44.8, 52.1, 59.4, 66.7, 74. ]),\n",
       " <BarContainer object of 10 artists>)"
      ]
     },
     "execution_count": 51,
     "metadata": {},
     "output_type": "execute_result"
    },
    {
     "data": {
      "image/png": "[encoded data removed]",
      "text/plain": [
       "<Figure size 432x288 with 1 Axes>"
      ]
     },
     "metadata": {
      "needs_background": "light"
     },
     "output_type": "display_data"
    }
   ],
   "source": [
    "plt.hist(df_use[df_use['Survived'] == 0].Age)"
   ]
  },
  {
   "cell_type": "code",
   "execution_count": 53,
   "id": "77fd9f72",
   "metadata": {},
   "outputs": [
    {
     "data": {
      "text/plain": [
       "(array([36., 19., 63., 65., 52., 24., 21.,  9.,  0.,  1.]),\n",
       " array([ 0.42 ,  8.378, 16.336, 24.294, 32.252, 40.21 , 48.168, 56.126,\n",
       "        64.084, 72.042, 80.   ]),\n",
       " <BarContainer object of 10 artists>)"
      ]
     },
     "execution_count": 53,
     "metadata": {},
     "output_type": "execute_result"
    },
    {
     "data": {
      "image/png": "[encoded data removed]",
      "text/plain": [
       "<Figure size 432x288 with 1 Axes>"
      ]
     },
     "metadata": {
      "needs_background": "light"
     },
     "output_type": "display_data"
    }
   ],
   "source": [
    "plt.hist(df_use[df_use['Survived'] == 1].Age)"
   ]
  },
  {
   "cell_type": "code",
   "execution_count": 19,
   "id": "c8a9f6c3",
   "metadata": {},
   "outputs": [
    {
     "data": {
      "text/plain": [
       "(array([ 54.,  46., 177., 169., 118.,  70.,  45.,  24.,   9.,   2.]),\n",
       " array([ 0.42 ,  8.378, 16.336, 24.294, 32.252, 40.21 , 48.168, 56.126,\n",
       "        64.084, 72.042, 80.   ]),\n",
       " <BarContainer object of 10 artists>)"
      ]
     },
     "execution_count": 19,
     "metadata": {},
     "output_type": "execute_result"
    },
    {
     "data": {
      "image/png": "[encoded data removed]",
      "text/plain": [
       "<Figure size 432x288 with 1 Axes>"
      ]
     },
     "metadata": {
      "needs_background": "light"
     },
     "output_type": "display_data"
    }
   ],
   "source": [
    "plt.hist(df_use.Age)"
   ]
  },
  {
   "cell_type": "code",
   "execution_count": 64,
   "id": "07d3b380",
   "metadata": {},
   "outputs": [],
   "source": [
    "df_grp3 = df_use[['Survived','Pclass']].groupby('Pclass').sum()"
   ]
  },
  {
   "cell_type": "code",
   "execution_count": 66,
   "id": "812586bd",
   "metadata": {},
   "outputs": [],
   "source": [
    "df_grp3.reset_index(inplace = True)"
   ]
  },
  {
   "cell_type": "code",
   "execution_count": 67,
   "id": "530e3cad",
   "metadata": {},
   "outputs": [
    {
     "data": {
      "text/plain": [
       "<BarContainer object of 3 artists>"
      ]
     },
     "execution_count": 67,
     "metadata": {},
     "output_type": "execute_result"
    },
    {
     "data": {
      "image/png": "[encoded data removed]",
      "text/plain": [
       "<Figure size 432x288 with 1 Axes>"
      ]
     },
     "metadata": {
      "needs_background": "light"
     },
     "output_type": "display_data"
    }
   ],
   "source": [
    "plt.bar(df_grp3.Pclass, df_grp3.Survived)"
   ]
  },
  {
   "cell_type": "code",
   "execution_count": 8,
   "id": "f66e2001",
   "metadata": {},
   "outputs": [
    {
     "data": {
      "text/plain": [
       "PassengerId      0\n",
       "Survived         0\n",
       "Pclass           0\n",
       "Sex              0\n",
       "Age            177\n",
       "SibSp            0\n",
       "Parch            0\n",
       "Fare             0\n",
       "Embarked         2\n",
       "dtype: int64"
      ]
     },
     "execution_count": 8,
     "metadata": {},
     "output_type": "execute_result"
    }
   ],
   "source": [
    "df_use.isna().sum()"
   ]
  },
  {
   "cell_type": "code",
   "execution_count": 15,
   "id": "7fc034d0",
   "metadata": {},
   "outputs": [
    {
     "data": {
      "text/plain": [
       "male      577\n",
       "female    314\n",
       "Name: Sex, dtype: int64"
      ]
     },
     "execution_count": 15,
     "metadata": {},
     "output_type": "execute_result"
    }
   ],
   "source": [
    "df_use.Sex.value_counts()"
   ]
  },
  {
   "cell_type": "code",
   "execution_count": 16,
   "id": "326a5f58",
   "metadata": {},
   "outputs": [],
   "source": [
    "x = ['Male', 'Female']\n",
    "y = [577, 314]"
   ]
  },
  {
   "cell_type": "code",
   "execution_count": 18,
   "id": "75ecf78a",
   "metadata": {},
   "outputs": [
    {
     "data": {
      "text/plain": [
       "<BarContainer object of 2 artists>"
      ]
     },
     "execution_count": 18,
     "metadata": {},
     "output_type": "execute_result"
    },
    {
     "data": {
      "image/png": "[encoded data removed]",
      "text/plain": [
       "<Figure size 432x288 with 1 Axes>"
      ]
     },
     "metadata": {
      "needs_background": "light"
     },
     "output_type": "display_data"
    }
   ],
   "source": [
    "plt.bar(x,y)"
   ]
  },
  {
   "cell_type": "code",
   "execution_count": 14,
   "id": "da4aaf60",
   "metadata": {},
   "outputs": [
    {
     "data": {
      "text/plain": [
       "0    549\n",
       "1    342\n",
       "Name: Survived, dtype: int64"
      ]
     },
     "execution_count": 14,
     "metadata": {},
     "output_type": "execute_result"
    }
   ],
   "source": [
    "df_use.Survived.value_counts()"
   ]
  },
  {
   "cell_type": "code",
   "execution_count": 20,
   "id": "04165ffb",
   "metadata": {},
   "outputs": [
    {
     "data": {
      "text/plain": [
       "<BarContainer object of 2 artists>"
      ]
     },
     "execution_count": 20,
     "metadata": {},
     "output_type": "execute_result"
    },
    {
     "data": {
      "image/png": "[encoded data removed]",
      "text/plain": [
       "<Figure size 432x288 with 1 Axes>"
      ]
     },
     "metadata": {
      "needs_background": "light"
     },
     "output_type": "display_data"
    }
   ],
   "source": [
    "plt.bar(df_use.Sex.value_counts(),df_use.Survived.value_counts())"
   ]
  },
  {
   "cell_type": "code",
   "execution_count": 7,
   "id": "fa742e28",
   "metadata": {},
   "outputs": [
    {
     "data": {
      "text/plain": [
       "PassengerId      int64\n",
       "Survived         int64\n",
       "Pclass           int64\n",
       "Sex             object\n",
       "Age            float64\n",
       "SibSp            int64\n",
       "Parch            int64\n",
       "Fare           float64\n",
       "Embarked        object\n",
       "dtype: object"
      ]
     },
     "execution_count": 7,
     "metadata": {},
     "output_type": "execute_result"
    }
   ],
   "source": [
    "df_use.dtypes"
   ]
  },
  {
   "cell_type": "code",
   "execution_count": 92,
   "id": "46ef3b16",
   "metadata": {},
   "outputs": [
    {
     "data": {
      "text/plain": [
       "array(['male', 'female'], dtype=object)"
      ]
     },
     "execution_count": 92,
     "metadata": {},
     "output_type": "execute_result"
    }
   ],
   "source": [
    "df_use.Sex.unique()"
   ]
  },
  {
   "cell_type": "code",
   "execution_count": 93,
   "id": "06db9944",
   "metadata": {},
   "outputs": [],
   "source": [
    "df_use['Sex'] = [1 if x == 'female' else 0 for x in df_use['Sex']]"
   ]
  },
  {
   "cell_type": "code",
   "execution_count": 94,
   "id": "4261db0d",
   "metadata": {},
   "outputs": [
    {
     "data": {
      "text/plain": [
       "array([0, 1], dtype=int64)"
      ]
     },
     "execution_count": 94,
     "metadata": {},
     "output_type": "execute_result"
    }
   ],
   "source": [
    "df_use.Sex.unique()"
   ]
  },
  {
   "cell_type": "code",
   "execution_count": 25,
   "id": "f54d7151",
   "metadata": {},
   "outputs": [
    {
     "data": {
      "text/html": [
       "<div>\n",
       "<style scoped>\n",
       "    .dataframe tbody tr th:only-of-type {\n",
       "        vertical-align: middle;\n",
       "    }\n",
       "\n",
       "    .dataframe tbody tr th {\n",
       "        vertical-align: top;\n",
       "    }\n",
       "\n",
       "    .dataframe thead th {\n",
       "        text-align: right;\n",
       "    }\n",
       "</style>\n",
       "<table border=\"1\" class=\"dataframe\">\n",
       "  <thead>\n",
       "    <tr style=\"text-align: right;\">\n",
       "      <th></th>\n",
       "      <th>PassengerId</th>\n",
       "      <th>Survived</th>\n",
       "      <th>Pclass</th>\n",
       "      <th>Sex</th>\n",
       "      <th>Age</th>\n",
       "      <th>SibSp</th>\n",
       "      <th>Parch</th>\n",
       "      <th>Fare</th>\n",
       "      <th>Embarked</th>\n",
       "    </tr>\n",
       "  </thead>\n",
       "  <tbody>\n",
       "    <tr>\n",
       "      <th>0</th>\n",
       "      <td>1</td>\n",
       "      <td>0</td>\n",
       "      <td>3</td>\n",
       "      <td>0</td>\n",
       "      <td>22.0</td>\n",
       "      <td>1</td>\n",
       "      <td>0</td>\n",
       "      <td>7.2500</td>\n",
       "      <td>S</td>\n",
       "    </tr>\n",
       "    <tr>\n",
       "      <th>1</th>\n",
       "      <td>2</td>\n",
       "      <td>1</td>\n",
       "      <td>1</td>\n",
       "      <td>1</td>\n",
       "      <td>38.0</td>\n",
       "      <td>1</td>\n",
       "      <td>0</td>\n",
       "      <td>71.2833</td>\n",
       "      <td>C</td>\n",
       "    </tr>\n",
       "    <tr>\n",
       "      <th>2</th>\n",
       "      <td>3</td>\n",
       "      <td>1</td>\n",
       "      <td>3</td>\n",
       "      <td>1</td>\n",
       "      <td>26.0</td>\n",
       "      <td>0</td>\n",
       "      <td>0</td>\n",
       "      <td>7.9250</td>\n",
       "      <td>S</td>\n",
       "    </tr>\n",
       "    <tr>\n",
       "      <th>3</th>\n",
       "      <td>4</td>\n",
       "      <td>1</td>\n",
       "      <td>1</td>\n",
       "      <td>1</td>\n",
       "      <td>35.0</td>\n",
       "      <td>1</td>\n",
       "      <td>0</td>\n",
       "      <td>53.1000</td>\n",
       "      <td>S</td>\n",
       "    </tr>\n",
       "    <tr>\n",
       "      <th>4</th>\n",
       "      <td>5</td>\n",
       "      <td>0</td>\n",
       "      <td>3</td>\n",
       "      <td>0</td>\n",
       "      <td>35.0</td>\n",
       "      <td>0</td>\n",
       "      <td>0</td>\n",
       "      <td>8.0500</td>\n",
       "      <td>S</td>\n",
       "    </tr>\n",
       "  </tbody>\n",
       "</table>\n",
       "</div>"
      ],
      "text/plain": [
       "   PassengerId  Survived  Pclass  Sex   Age  SibSp  Parch     Fare Embarked\n",
       "0            1         0       3    0  22.0      1      0   7.2500        S\n",
       "1            2         1       1    1  38.0      1      0  71.2833        C\n",
       "2            3         1       3    1  26.0      0      0   7.9250        S\n",
       "3            4         1       1    1  35.0      1      0  53.1000        S\n",
       "4            5         0       3    0  35.0      0      0   8.0500        S"
      ]
     },
     "execution_count": 25,
     "metadata": {},
     "output_type": "execute_result"
    }
   ],
   "source": [
    "df_use.head()"
   ]
  },
  {
   "cell_type": "code",
   "execution_count": 95,
   "id": "ed79406e",
   "metadata": {},
   "outputs": [
    {
     "data": {
      "text/plain": [
       "array(['S', 'C', 'Q', nan], dtype=object)"
      ]
     },
     "execution_count": 95,
     "metadata": {},
     "output_type": "execute_result"
    }
   ],
   "source": [
    "df_use.Embarked.unique()"
   ]
  },
  {
   "cell_type": "code",
   "execution_count": 96,
   "id": "1713106f",
   "metadata": {},
   "outputs": [
    {
     "data": {
      "text/html": [
       "<div>\n",
       "<style scoped>\n",
       "    .dataframe tbody tr th:only-of-type {\n",
       "        vertical-align: middle;\n",
       "    }\n",
       "\n",
       "    .dataframe tbody tr th {\n",
       "        vertical-align: top;\n",
       "    }\n",
       "\n",
       "    .dataframe thead th {\n",
       "        text-align: right;\n",
       "    }\n",
       "</style>\n",
       "<table border=\"1\" class=\"dataframe\">\n",
       "  <thead>\n",
       "    <tr style=\"text-align: right;\">\n",
       "      <th></th>\n",
       "      <th>PassengerId</th>\n",
       "      <th>Survived</th>\n",
       "      <th>Pclass</th>\n",
       "      <th>Sex</th>\n",
       "      <th>Age</th>\n",
       "      <th>SibSp</th>\n",
       "      <th>Parch</th>\n",
       "      <th>Fare</th>\n",
       "    </tr>\n",
       "    <tr>\n",
       "      <th>Embarked</th>\n",
       "      <th></th>\n",
       "      <th></th>\n",
       "      <th></th>\n",
       "      <th></th>\n",
       "      <th></th>\n",
       "      <th></th>\n",
       "      <th></th>\n",
       "      <th></th>\n",
       "    </tr>\n",
       "  </thead>\n",
       "  <tbody>\n",
       "    <tr>\n",
       "      <th>C</th>\n",
       "      <td>168</td>\n",
       "      <td>168</td>\n",
       "      <td>168</td>\n",
       "      <td>168</td>\n",
       "      <td>130</td>\n",
       "      <td>168</td>\n",
       "      <td>168</td>\n",
       "      <td>168</td>\n",
       "    </tr>\n",
       "    <tr>\n",
       "      <th>Q</th>\n",
       "      <td>77</td>\n",
       "      <td>77</td>\n",
       "      <td>77</td>\n",
       "      <td>77</td>\n",
       "      <td>28</td>\n",
       "      <td>77</td>\n",
       "      <td>77</td>\n",
       "      <td>77</td>\n",
       "    </tr>\n",
       "    <tr>\n",
       "      <th>S</th>\n",
       "      <td>644</td>\n",
       "      <td>644</td>\n",
       "      <td>644</td>\n",
       "      <td>644</td>\n",
       "      <td>554</td>\n",
       "      <td>644</td>\n",
       "      <td>644</td>\n",
       "      <td>644</td>\n",
       "    </tr>\n",
       "  </tbody>\n",
       "</table>\n",
       "</div>"
      ],
      "text/plain": [
       "          PassengerId  Survived  Pclass  Sex  Age  SibSp  Parch  Fare\n",
       "Embarked                                                             \n",
       "C                 168       168     168  168  130    168    168   168\n",
       "Q                  77        77      77   77   28     77     77    77\n",
       "S                 644       644     644  644  554    644    644   644"
      ]
     },
     "execution_count": 96,
     "metadata": {},
     "output_type": "execute_result"
    }
   ],
   "source": [
    "df_use.groupby('Embarked').count()"
   ]
  },
  {
   "cell_type": "code",
   "execution_count": 97,
   "id": "1c965881",
   "metadata": {},
   "outputs": [
    {
     "data": {
      "text/plain": [
       "2"
      ]
     },
     "execution_count": 97,
     "metadata": {},
     "output_type": "execute_result"
    }
   ],
   "source": [
    "df_use['Embarked'].isna().sum()"
   ]
  },
  {
   "cell_type": "code",
   "execution_count": 98,
   "id": "2a0e74f4",
   "metadata": {},
   "outputs": [],
   "source": [
    "dummies = pd.get_dummies(df_use.Embarked, dummy_na = False)"
   ]
  },
  {
   "cell_type": "code",
   "execution_count": 99,
   "id": "0e96a26b",
   "metadata": {},
   "outputs": [
    {
     "data": {
      "text/html": [
       "<div>\n",
       "<style scoped>\n",
       "    .dataframe tbody tr th:only-of-type {\n",
       "        vertical-align: middle;\n",
       "    }\n",
       "\n",
       "    .dataframe tbody tr th {\n",
       "        vertical-align: top;\n",
       "    }\n",
       "\n",
       "    .dataframe thead th {\n",
       "        text-align: right;\n",
       "    }\n",
       "</style>\n",
       "<table border=\"1\" class=\"dataframe\">\n",
       "  <thead>\n",
       "    <tr style=\"text-align: right;\">\n",
       "      <th></th>\n",
       "      <th>C</th>\n",
       "      <th>Q</th>\n",
       "      <th>S</th>\n",
       "    </tr>\n",
       "  </thead>\n",
       "  <tbody>\n",
       "    <tr>\n",
       "      <th>0</th>\n",
       "      <td>0</td>\n",
       "      <td>0</td>\n",
       "      <td>1</td>\n",
       "    </tr>\n",
       "    <tr>\n",
       "      <th>1</th>\n",
       "      <td>1</td>\n",
       "      <td>0</td>\n",
       "      <td>0</td>\n",
       "    </tr>\n",
       "    <tr>\n",
       "      <th>2</th>\n",
       "      <td>0</td>\n",
       "      <td>0</td>\n",
       "      <td>1</td>\n",
       "    </tr>\n",
       "    <tr>\n",
       "      <th>3</th>\n",
       "      <td>0</td>\n",
       "      <td>0</td>\n",
       "      <td>1</td>\n",
       "    </tr>\n",
       "    <tr>\n",
       "      <th>4</th>\n",
       "      <td>0</td>\n",
       "      <td>0</td>\n",
       "      <td>1</td>\n",
       "    </tr>\n",
       "  </tbody>\n",
       "</table>\n",
       "</div>"
      ],
      "text/plain": [
       "   C  Q  S\n",
       "0  0  0  1\n",
       "1  1  0  0\n",
       "2  0  0  1\n",
       "3  0  0  1\n",
       "4  0  0  1"
      ]
     },
     "execution_count": 99,
     "metadata": {},
     "output_type": "execute_result"
    }
   ],
   "source": [
    "dummies.head()"
   ]
  },
  {
   "cell_type": "code",
   "execution_count": 38,
   "id": "2804609c",
   "metadata": {},
   "outputs": [
    {
     "data": {
      "text/plain": [
       "(891, 4)"
      ]
     },
     "execution_count": 38,
     "metadata": {},
     "output_type": "execute_result"
    }
   ],
   "source": [
    "dummies.shape"
   ]
  },
  {
   "cell_type": "code",
   "execution_count": 100,
   "id": "2b8a9b3a",
   "metadata": {},
   "outputs": [],
   "source": [
    "df_use_new = pd.concat([df_use, dummies], axis = 1)"
   ]
  },
  {
   "cell_type": "code",
   "execution_count": 40,
   "id": "21f3432b",
   "metadata": {},
   "outputs": [
    {
     "data": {
      "text/html": [
       "<div>\n",
       "<style scoped>\n",
       "    .dataframe tbody tr th:only-of-type {\n",
       "        vertical-align: middle;\n",
       "    }\n",
       "\n",
       "    .dataframe tbody tr th {\n",
       "        vertical-align: top;\n",
       "    }\n",
       "\n",
       "    .dataframe thead th {\n",
       "        text-align: right;\n",
       "    }\n",
       "</style>\n",
       "<table border=\"1\" class=\"dataframe\">\n",
       "  <thead>\n",
       "    <tr style=\"text-align: right;\">\n",
       "      <th></th>\n",
       "      <th>PassengerId</th>\n",
       "      <th>Survived</th>\n",
       "      <th>Pclass</th>\n",
       "      <th>Sex</th>\n",
       "      <th>Age</th>\n",
       "      <th>SibSp</th>\n",
       "      <th>Parch</th>\n",
       "      <th>Fare</th>\n",
       "      <th>Embarked</th>\n",
       "      <th>C</th>\n",
       "      <th>Q</th>\n",
       "      <th>S</th>\n",
       "      <th>NaN</th>\n",
       "    </tr>\n",
       "  </thead>\n",
       "  <tbody>\n",
       "    <tr>\n",
       "      <th>0</th>\n",
       "      <td>1</td>\n",
       "      <td>0</td>\n",
       "      <td>3</td>\n",
       "      <td>0</td>\n",
       "      <td>22.0</td>\n",
       "      <td>1</td>\n",
       "      <td>0</td>\n",
       "      <td>7.2500</td>\n",
       "      <td>S</td>\n",
       "      <td>0</td>\n",
       "      <td>0</td>\n",
       "      <td>1</td>\n",
       "      <td>0</td>\n",
       "    </tr>\n",
       "    <tr>\n",
       "      <th>1</th>\n",
       "      <td>2</td>\n",
       "      <td>1</td>\n",
       "      <td>1</td>\n",
       "      <td>1</td>\n",
       "      <td>38.0</td>\n",
       "      <td>1</td>\n",
       "      <td>0</td>\n",
       "      <td>71.2833</td>\n",
       "      <td>C</td>\n",
       "      <td>1</td>\n",
       "      <td>0</td>\n",
       "      <td>0</td>\n",
       "      <td>0</td>\n",
       "    </tr>\n",
       "    <tr>\n",
       "      <th>2</th>\n",
       "      <td>3</td>\n",
       "      <td>1</td>\n",
       "      <td>3</td>\n",
       "      <td>1</td>\n",
       "      <td>26.0</td>\n",
       "      <td>0</td>\n",
       "      <td>0</td>\n",
       "      <td>7.9250</td>\n",
       "      <td>S</td>\n",
       "      <td>0</td>\n",
       "      <td>0</td>\n",
       "      <td>1</td>\n",
       "      <td>0</td>\n",
       "    </tr>\n",
       "    <tr>\n",
       "      <th>3</th>\n",
       "      <td>4</td>\n",
       "      <td>1</td>\n",
       "      <td>1</td>\n",
       "      <td>1</td>\n",
       "      <td>35.0</td>\n",
       "      <td>1</td>\n",
       "      <td>0</td>\n",
       "      <td>53.1000</td>\n",
       "      <td>S</td>\n",
       "      <td>0</td>\n",
       "      <td>0</td>\n",
       "      <td>1</td>\n",
       "      <td>0</td>\n",
       "    </tr>\n",
       "    <tr>\n",
       "      <th>4</th>\n",
       "      <td>5</td>\n",
       "      <td>0</td>\n",
       "      <td>3</td>\n",
       "      <td>0</td>\n",
       "      <td>35.0</td>\n",
       "      <td>0</td>\n",
       "      <td>0</td>\n",
       "      <td>8.0500</td>\n",
       "      <td>S</td>\n",
       "      <td>0</td>\n",
       "      <td>0</td>\n",
       "      <td>1</td>\n",
       "      <td>0</td>\n",
       "    </tr>\n",
       "  </tbody>\n",
       "</table>\n",
       "</div>"
      ],
      "text/plain": [
       "   PassengerId  Survived  Pclass  Sex   Age  SibSp  Parch     Fare Embarked  \\\n",
       "0            1         0       3    0  22.0      1      0   7.2500        S   \n",
       "1            2         1       1    1  38.0      1      0  71.2833        C   \n",
       "2            3         1       3    1  26.0      0      0   7.9250        S   \n",
       "3            4         1       1    1  35.0      1      0  53.1000        S   \n",
       "4            5         0       3    0  35.0      0      0   8.0500        S   \n",
       "\n",
       "   C  Q  S  NaN  \n",
       "0  0  0  1    0  \n",
       "1  1  0  0    0  \n",
       "2  0  0  1    0  \n",
       "3  0  0  1    0  \n",
       "4  0  0  1    0  "
      ]
     },
     "execution_count": 40,
     "metadata": {},
     "output_type": "execute_result"
    }
   ],
   "source": [
    "df_use_new.head()"
   ]
  },
  {
   "cell_type": "code",
   "execution_count": 101,
   "id": "5dbc16ee",
   "metadata": {},
   "outputs": [],
   "source": [
    "df_use_new.drop(columns = ['Embarked'], inplace = True)"
   ]
  },
  {
   "cell_type": "code",
   "execution_count": 102,
   "id": "f8c9be2c",
   "metadata": {},
   "outputs": [
    {
     "data": {
      "text/html": [
       "<div>\n",
       "<style scoped>\n",
       "    .dataframe tbody tr th:only-of-type {\n",
       "        vertical-align: middle;\n",
       "    }\n",
       "\n",
       "    .dataframe tbody tr th {\n",
       "        vertical-align: top;\n",
       "    }\n",
       "\n",
       "    .dataframe thead th {\n",
       "        text-align: right;\n",
       "    }\n",
       "</style>\n",
       "<table border=\"1\" class=\"dataframe\">\n",
       "  <thead>\n",
       "    <tr style=\"text-align: right;\">\n",
       "      <th></th>\n",
       "      <th>PassengerId</th>\n",
       "      <th>Survived</th>\n",
       "      <th>Pclass</th>\n",
       "      <th>Sex</th>\n",
       "      <th>Age</th>\n",
       "      <th>SibSp</th>\n",
       "      <th>Parch</th>\n",
       "      <th>Fare</th>\n",
       "      <th>C</th>\n",
       "      <th>Q</th>\n",
       "      <th>S</th>\n",
       "    </tr>\n",
       "  </thead>\n",
       "  <tbody>\n",
       "    <tr>\n",
       "      <th>0</th>\n",
       "      <td>1</td>\n",
       "      <td>0</td>\n",
       "      <td>3</td>\n",
       "      <td>0</td>\n",
       "      <td>22.0</td>\n",
       "      <td>1</td>\n",
       "      <td>0</td>\n",
       "      <td>7.2500</td>\n",
       "      <td>0</td>\n",
       "      <td>0</td>\n",
       "      <td>1</td>\n",
       "    </tr>\n",
       "    <tr>\n",
       "      <th>1</th>\n",
       "      <td>2</td>\n",
       "      <td>1</td>\n",
       "      <td>1</td>\n",
       "      <td>1</td>\n",
       "      <td>38.0</td>\n",
       "      <td>1</td>\n",
       "      <td>0</td>\n",
       "      <td>71.2833</td>\n",
       "      <td>1</td>\n",
       "      <td>0</td>\n",
       "      <td>0</td>\n",
       "    </tr>\n",
       "    <tr>\n",
       "      <th>2</th>\n",
       "      <td>3</td>\n",
       "      <td>1</td>\n",
       "      <td>3</td>\n",
       "      <td>1</td>\n",
       "      <td>26.0</td>\n",
       "      <td>0</td>\n",
       "      <td>0</td>\n",
       "      <td>7.9250</td>\n",
       "      <td>0</td>\n",
       "      <td>0</td>\n",
       "      <td>1</td>\n",
       "    </tr>\n",
       "    <tr>\n",
       "      <th>3</th>\n",
       "      <td>4</td>\n",
       "      <td>1</td>\n",
       "      <td>1</td>\n",
       "      <td>1</td>\n",
       "      <td>35.0</td>\n",
       "      <td>1</td>\n",
       "      <td>0</td>\n",
       "      <td>53.1000</td>\n",
       "      <td>0</td>\n",
       "      <td>0</td>\n",
       "      <td>1</td>\n",
       "    </tr>\n",
       "    <tr>\n",
       "      <th>4</th>\n",
       "      <td>5</td>\n",
       "      <td>0</td>\n",
       "      <td>3</td>\n",
       "      <td>0</td>\n",
       "      <td>35.0</td>\n",
       "      <td>0</td>\n",
       "      <td>0</td>\n",
       "      <td>8.0500</td>\n",
       "      <td>0</td>\n",
       "      <td>0</td>\n",
       "      <td>1</td>\n",
       "    </tr>\n",
       "  </tbody>\n",
       "</table>\n",
       "</div>"
      ],
      "text/plain": [
       "   PassengerId  Survived  Pclass  Sex   Age  SibSp  Parch     Fare  C  Q  S\n",
       "0            1         0       3    0  22.0      1      0   7.2500  0  0  1\n",
       "1            2         1       1    1  38.0      1      0  71.2833  1  0  0\n",
       "2            3         1       3    1  26.0      0      0   7.9250  0  0  1\n",
       "3            4         1       1    1  35.0      1      0  53.1000  0  0  1\n",
       "4            5         0       3    0  35.0      0      0   8.0500  0  0  1"
      ]
     },
     "execution_count": 102,
     "metadata": {},
     "output_type": "execute_result"
    }
   ],
   "source": [
    "df_use_new.head()"
   ]
  },
  {
   "cell_type": "code",
   "execution_count": 103,
   "id": "16db4565",
   "metadata": {},
   "outputs": [
    {
     "data": {
      "text/plain": [
       "PassengerId      int64\n",
       "Survived         int64\n",
       "Pclass           int64\n",
       "Sex              int64\n",
       "Age            float64\n",
       "SibSp            int64\n",
       "Parch            int64\n",
       "Fare           float64\n",
       "C                uint8\n",
       "Q                uint8\n",
       "S                uint8\n",
       "dtype: object"
      ]
     },
     "execution_count": 103,
     "metadata": {},
     "output_type": "execute_result"
    }
   ],
   "source": [
    "df_use_new.dtypes\n"
   ]
  },
  {
   "cell_type": "code",
   "execution_count": 75,
   "id": "b4527101",
   "metadata": {},
   "outputs": [],
   "source": [
    "#df_use_new.rename(columns = {'NaN' : 'NaN'}, inplace = True)"
   ]
  },
  {
   "cell_type": "code",
   "execution_count": 104,
   "id": "7b432546",
   "metadata": {},
   "outputs": [],
   "source": [
    "df_use_new['Age'].fillna(df_use_new['Age'].median(), inplace = True)"
   ]
  },
  {
   "cell_type": "code",
   "execution_count": 68,
   "id": "bd1e4a64",
   "metadata": {},
   "outputs": [
    {
     "data": {
      "text/plain": [
       "dtype('O')"
      ]
     },
     "execution_count": 68,
     "metadata": {},
     "output_type": "execute_result"
    }
   ],
   "source": [
    "df_use_new.columns."
   ]
  },
  {
   "cell_type": "code",
   "execution_count": 105,
   "id": "a0fa8277",
   "metadata": {},
   "outputs": [
    {
     "data": {
      "text/plain": [
       "PassengerId    0\n",
       "Survived       0\n",
       "Pclass         0\n",
       "Sex            0\n",
       "Age            0\n",
       "SibSp          0\n",
       "Parch          0\n",
       "Fare           0\n",
       "C              0\n",
       "Q              0\n",
       "S              0\n",
       "dtype: int64"
      ]
     },
     "execution_count": 105,
     "metadata": {},
     "output_type": "execute_result"
    }
   ],
   "source": [
    "df_use_new.isna().sum()"
   ]
  },
  {
   "cell_type": "code",
   "execution_count": 106,
   "id": "74798f02",
   "metadata": {},
   "outputs": [],
   "source": [
    "lim = int(len(df_use_new)*0.8)"
   ]
  },
  {
   "cell_type": "code",
   "execution_count": 107,
   "id": "6c0c7985",
   "metadata": {},
   "outputs": [],
   "source": [
    "x_train, y_train = df_use_new.iloc[:lim,:].drop('Survived', axis = 1), df_use_new.iloc[:lim,1]\n",
    "x_val, y_val = df_use_new.iloc[lim:,:].drop('Survived', axis = 1), df_use_new.iloc[lim:,1]"
   ]
  },
  {
   "cell_type": "code",
   "execution_count": 108,
   "id": "ff44047b",
   "metadata": {},
   "outputs": [
    {
     "data": {
      "text/plain": [
       "(712, 10)"
      ]
     },
     "execution_count": 108,
     "metadata": {},
     "output_type": "execute_result"
    }
   ],
   "source": [
    "x_train.shape"
   ]
  },
  {
   "cell_type": "code",
   "execution_count": 109,
   "id": "c3417c79",
   "metadata": {},
   "outputs": [
    {
     "data": {
      "text/plain": [
       "(712,)"
      ]
     },
     "execution_count": 109,
     "metadata": {},
     "output_type": "execute_result"
    }
   ],
   "source": [
    "y_train.shape"
   ]
  },
  {
   "cell_type": "code",
   "execution_count": 110,
   "id": "3bd946a1",
   "metadata": {},
   "outputs": [
    {
     "data": {
      "text/plain": [
       "(179, 10)"
      ]
     },
     "execution_count": 110,
     "metadata": {},
     "output_type": "execute_result"
    }
   ],
   "source": [
    "x_val.shape"
   ]
  },
  {
   "cell_type": "code",
   "execution_count": 55,
   "id": "9842a327",
   "metadata": {},
   "outputs": [
    {
     "data": {
      "text/plain": [
       "(179,)"
      ]
     },
     "execution_count": 55,
     "metadata": {},
     "output_type": "execute_result"
    }
   ],
   "source": [
    "y_val.shape"
   ]
  },
  {
   "cell_type": "code",
   "execution_count": null,
   "id": "7630e48c",
   "metadata": {},
   "outputs": [],
   "source": [
    "# The above is Exploratory Data Analysis and below now I have done tha same thing via functions"
   ]
  },
  {
   "cell_type": "code",
   "execution_count": 239,
   "id": "9d869d63",
   "metadata": {},
   "outputs": [],
   "source": [
    "def data_clean():\n",
    "    df = pd.read_csv('C:\\\\Users\\\\Naveen Kumar\\\\OneDrive - RxLogix\\\\Documents\\\\PersoMe\\\\MLcodes\\\\Titanic ML\\\\train.csv')\n",
    "    df_use = df.drop(columns = ['Name','Ticket','Cabin','PassengerId'])\n",
    "    df_use['Sex'] = [1 if x == 'female' else 0 for x in df_use['Sex']]\n",
    "    dummies = pd.get_dummies(df_use.Embarked, dummy_na = False)\n",
    "    df_use_new = pd.concat([df_use, dummies], axis = 1)\n",
    "    #df_use_new = df_use\n",
    "    df_use_new.drop(columns = ['Embarked','Fare'], inplace = True)\n",
    "    df_use_new['Age'].fillna(df_use_new['Age'].mean(), inplace = True)\n",
    "    #df_use_new = shuffle(df_use_new)\n",
    "    #df_use_new.reset_index(drop = True, inplace =True)\n",
    "    return df_use_new\n",
    "\n",
    "\n",
    "df_use_new = data_clean()\n",
    "\n",
    "#lim = int(len(df_use_new)*0.85)\n",
    "#x_train, y_train = df_use_new.iloc[:lim,:].drop('Survived', axis = 1), df_use_new.iloc[:lim,1]\n",
    "#x_val, y_val = df_use_new.iloc[lim:,:].drop('Survived', axis = 1), df_use_new.iloc[lim:,1]\n",
    "    "
   ]
  },
  {
   "cell_type": "code",
   "execution_count": 240,
   "id": "b11ec8bc",
   "metadata": {},
   "outputs": [],
   "source": [
    "x_train, y_train = df_use_new.drop('Survived', axis = 1), df_use_new['Survived']"
   ]
  },
  {
   "cell_type": "code",
   "execution_count": 241,
   "id": "ad7df4e8",
   "metadata": {},
   "outputs": [
    {
     "data": {
      "text/html": [
       "<div>\n",
       "<style scoped>\n",
       "    .dataframe tbody tr th:only-of-type {\n",
       "        vertical-align: middle;\n",
       "    }\n",
       "\n",
       "    .dataframe tbody tr th {\n",
       "        vertical-align: top;\n",
       "    }\n",
       "\n",
       "    .dataframe thead th {\n",
       "        text-align: right;\n",
       "    }\n",
       "</style>\n",
       "<table border=\"1\" class=\"dataframe\">\n",
       "  <thead>\n",
       "    <tr style=\"text-align: right;\">\n",
       "      <th></th>\n",
       "      <th>Pclass</th>\n",
       "      <th>Sex</th>\n",
       "      <th>Age</th>\n",
       "      <th>SibSp</th>\n",
       "      <th>Parch</th>\n",
       "      <th>C</th>\n",
       "      <th>Q</th>\n",
       "      <th>S</th>\n",
       "    </tr>\n",
       "  </thead>\n",
       "  <tbody>\n",
       "    <tr>\n",
       "      <th>0</th>\n",
       "      <td>3</td>\n",
       "      <td>0</td>\n",
       "      <td>22.0</td>\n",
       "      <td>1</td>\n",
       "      <td>0</td>\n",
       "      <td>0</td>\n",
       "      <td>0</td>\n",
       "      <td>1</td>\n",
       "    </tr>\n",
       "    <tr>\n",
       "      <th>1</th>\n",
       "      <td>1</td>\n",
       "      <td>1</td>\n",
       "      <td>38.0</td>\n",
       "      <td>1</td>\n",
       "      <td>0</td>\n",
       "      <td>1</td>\n",
       "      <td>0</td>\n",
       "      <td>0</td>\n",
       "    </tr>\n",
       "    <tr>\n",
       "      <th>2</th>\n",
       "      <td>3</td>\n",
       "      <td>1</td>\n",
       "      <td>26.0</td>\n",
       "      <td>0</td>\n",
       "      <td>0</td>\n",
       "      <td>0</td>\n",
       "      <td>0</td>\n",
       "      <td>1</td>\n",
       "    </tr>\n",
       "    <tr>\n",
       "      <th>3</th>\n",
       "      <td>1</td>\n",
       "      <td>1</td>\n",
       "      <td>35.0</td>\n",
       "      <td>1</td>\n",
       "      <td>0</td>\n",
       "      <td>0</td>\n",
       "      <td>0</td>\n",
       "      <td>1</td>\n",
       "    </tr>\n",
       "    <tr>\n",
       "      <th>4</th>\n",
       "      <td>3</td>\n",
       "      <td>0</td>\n",
       "      <td>35.0</td>\n",
       "      <td>0</td>\n",
       "      <td>0</td>\n",
       "      <td>0</td>\n",
       "      <td>0</td>\n",
       "      <td>1</td>\n",
       "    </tr>\n",
       "  </tbody>\n",
       "</table>\n",
       "</div>"
      ],
      "text/plain": [
       "   Pclass  Sex   Age  SibSp  Parch  C  Q  S\n",
       "0       3    0  22.0      1      0  0  0  1\n",
       "1       1    1  38.0      1      0  1  0  0\n",
       "2       3    1  26.0      0      0  0  0  1\n",
       "3       1    1  35.0      1      0  0  0  1\n",
       "4       3    0  35.0      0      0  0  0  1"
      ]
     },
     "execution_count": 241,
     "metadata": {},
     "output_type": "execute_result"
    }
   ],
   "source": [
    "x_train.head()"
   ]
  },
  {
   "cell_type": "code",
   "execution_count": 164,
   "id": "8fcd800a",
   "metadata": {},
   "outputs": [
    {
     "data": {
      "text/plain": [
       "Pclass      int64\n",
       "Sex         int64\n",
       "Age       float64\n",
       "SibSp       int64\n",
       "Parch       int64\n",
       "C           uint8\n",
       "Q           uint8\n",
       "S           uint8\n",
       "dtype: object"
      ]
     },
     "execution_count": 164,
     "metadata": {},
     "output_type": "execute_result"
    }
   ],
   "source": [
    "x_train.dtypes"
   ]
  },
  {
   "cell_type": "code",
   "execution_count": 149,
   "id": "d262bfb3",
   "metadata": {},
   "outputs": [
    {
     "data": {
      "text/html": [
       "<div>\n",
       "<style scoped>\n",
       "    .dataframe tbody tr th:only-of-type {\n",
       "        vertical-align: middle;\n",
       "    }\n",
       "\n",
       "    .dataframe tbody tr th {\n",
       "        vertical-align: top;\n",
       "    }\n",
       "\n",
       "    .dataframe thead th {\n",
       "        text-align: right;\n",
       "    }\n",
       "</style>\n",
       "<table border=\"1\" class=\"dataframe\">\n",
       "  <thead>\n",
       "    <tr style=\"text-align: right;\">\n",
       "      <th></th>\n",
       "      <th>PassengerId</th>\n",
       "      <th>Survived</th>\n",
       "      <th>Pclass</th>\n",
       "      <th>Sex</th>\n",
       "      <th>Age</th>\n",
       "      <th>Fare</th>\n",
       "    </tr>\n",
       "  </thead>\n",
       "  <tbody>\n",
       "    <tr>\n",
       "      <th>0</th>\n",
       "      <td>632</td>\n",
       "      <td>0</td>\n",
       "      <td>3</td>\n",
       "      <td>0</td>\n",
       "      <td>51.0</td>\n",
       "      <td>7.0542</td>\n",
       "    </tr>\n",
       "    <tr>\n",
       "      <th>1</th>\n",
       "      <td>359</td>\n",
       "      <td>1</td>\n",
       "      <td>3</td>\n",
       "      <td>1</td>\n",
       "      <td>28.0</td>\n",
       "      <td>7.8792</td>\n",
       "    </tr>\n",
       "    <tr>\n",
       "      <th>2</th>\n",
       "      <td>769</td>\n",
       "      <td>0</td>\n",
       "      <td>3</td>\n",
       "      <td>0</td>\n",
       "      <td>28.0</td>\n",
       "      <td>24.1500</td>\n",
       "    </tr>\n",
       "    <tr>\n",
       "      <th>3</th>\n",
       "      <td>623</td>\n",
       "      <td>1</td>\n",
       "      <td>3</td>\n",
       "      <td>0</td>\n",
       "      <td>20.0</td>\n",
       "      <td>15.7417</td>\n",
       "    </tr>\n",
       "    <tr>\n",
       "      <th>4</th>\n",
       "      <td>319</td>\n",
       "      <td>1</td>\n",
       "      <td>1</td>\n",
       "      <td>1</td>\n",
       "      <td>31.0</td>\n",
       "      <td>164.8667</td>\n",
       "    </tr>\n",
       "  </tbody>\n",
       "</table>\n",
       "</div>"
      ],
      "text/plain": [
       "   PassengerId  Survived  Pclass  Sex   Age      Fare\n",
       "0          632         0       3    0  51.0    7.0542\n",
       "1          359         1       3    1  28.0    7.8792\n",
       "2          769         0       3    0  28.0   24.1500\n",
       "3          623         1       3    0  20.0   15.7417\n",
       "4          319         1       1    1  31.0  164.8667"
      ]
     },
     "execution_count": 149,
     "metadata": {},
     "output_type": "execute_result"
    }
   ],
   "source": [
    "df_use_new.head()"
   ]
  },
  {
   "cell_type": "code",
   "execution_count": 150,
   "id": "51ab6836",
   "metadata": {},
   "outputs": [
    {
     "data": {
      "text/plain": [
       "(891, 6)"
      ]
     },
     "execution_count": 150,
     "metadata": {},
     "output_type": "execute_result"
    }
   ],
   "source": [
    "df_use_new.shape"
   ]
  },
  {
   "cell_type": "code",
   "execution_count": 151,
   "id": "ff79bf46",
   "metadata": {},
   "outputs": [
    {
     "data": {
      "text/plain": [
       "0    549\n",
       "1    342\n",
       "Name: Survived, dtype: int64"
      ]
     },
     "execution_count": 151,
     "metadata": {},
     "output_type": "execute_result"
    }
   ],
   "source": [
    "df_use_new['Survived'].value_counts()"
   ]
  },
  {
   "cell_type": "code",
   "execution_count": 152,
   "id": "c1deda5c",
   "metadata": {},
   "outputs": [
    {
     "data": {
      "text/plain": [
       "<BarContainer object of 2 artists>"
      ]
     },
     "execution_count": 152,
     "metadata": {},
     "output_type": "execute_result"
    },
    {
     "data": {
      "image/png": "[encoded data removed]",
      "text/plain": [
       "<Figure size 432x288 with 1 Axes>"
      ]
     },
     "metadata": {
      "needs_background": "light"
     },
     "output_type": "display_data"
    }
   ],
   "source": [
    "plt.bar(df_use_new['Survived'].value_counts().keys(),df_use_new['Survived'].value_counts(), color = ['r','g'])\n",
    "# red - died, green - survived"
   ]
  },
  {
   "cell_type": "code",
   "execution_count": 154,
   "id": "111fe675",
   "metadata": {},
   "outputs": [
    {
     "data": {
      "text/plain": [
       "<BarContainer object of 3 artists>"
      ]
     },
     "execution_count": 154,
     "metadata": {},
     "output_type": "execute_result"
    },
    {
     "data": {
      "image/png": "[encoded data removed]",
      "text/plain": [
       "<Figure size 432x288 with 1 Axes>"
      ]
     },
     "metadata": {
      "needs_background": "light"
     },
     "output_type": "display_data"
    }
   ],
   "source": [
    "plt.bar(df_use_new['Pclass'].value_counts().keys(),df_use_new['Pclass'].value_counts(), color = ['r','g','y'])"
   ]
  },
  {
   "cell_type": "code",
   "execution_count": 155,
   "id": "8c882940",
   "metadata": {},
   "outputs": [
    {
     "data": {
      "text/plain": [
       "<BarContainer object of 2 artists>"
      ]
     },
     "execution_count": 155,
     "metadata": {},
     "output_type": "execute_result"
    },
    {
     "data": {
      "image/png": "[encoded data removed]",
      "text/plain": [
       "<Figure size 432x288 with 1 Axes>"
      ]
     },
     "metadata": {
      "needs_background": "light"
     },
     "output_type": "display_data"
    }
   ],
   "source": [
    "plt.bar(df_use_new['Sex'].value_counts().keys(),df_use_new['Sex'].value_counts(), color = ['r','g'])"
   ]
  },
  {
   "cell_type": "code",
   "execution_count": 158,
   "id": "c77afc39",
   "metadata": {},
   "outputs": [],
   "source": [
    "def create_age_cat(x):\n",
    "    if x <= 10:\n",
    "        return 0\n",
    "    elif x > 11 and x< 40:\n",
    "        return 1\n",
    "    else:\n",
    "        return 2\n",
    "            \n",
    "    \n",
    "\n",
    "df_use_new['Age cat'] = df_use_new['Age'].apply(create_age_cat)\n",
    "            "
   ]
  },
  {
   "cell_type": "code",
   "execution_count": 160,
   "id": "212706bb",
   "metadata": {},
   "outputs": [
    {
     "data": {
      "text/plain": [
       "1    660\n",
       "2    167\n",
       "0     64\n",
       "Name: Age cat, dtype: int64"
      ]
     },
     "execution_count": 160,
     "metadata": {},
     "output_type": "execute_result"
    }
   ],
   "source": [
    "df_use_new['Age cat'].value_counts()"
   ]
  },
  {
   "cell_type": "code",
   "execution_count": 159,
   "id": "0dde6f7a",
   "metadata": {},
   "outputs": [
    {
     "data": {
      "text/plain": [
       "<BarContainer object of 3 artists>"
      ]
     },
     "execution_count": 159,
     "metadata": {},
     "output_type": "execute_result"
    },
    {
     "data": {
      "image/png": "[encoded data removed]",
      "text/plain": [
       "<Figure size 432x288 with 1 Axes>"
      ]
     },
     "metadata": {
      "needs_background": "light"
     },
     "output_type": "display_data"
    }
   ],
   "source": [
    "plt.bar(df_use_new['Age cat'].value_counts().keys(),df_use_new['Age cat'].value_counts(), color = ['r','g','y'])"
   ]
  },
  {
   "cell_type": "code",
   "execution_count": 161,
   "id": "bd2a51ca",
   "metadata": {},
   "outputs": [
    {
     "data": {
      "text/plain": [
       "(array([ 54.,  46., 177., 346., 118.,  70.,  45.,  24.,   9.,   2.]),\n",
       " array([ 0.42 ,  8.378, 16.336, 24.294, 32.252, 40.21 , 48.168, 56.126,\n",
       "        64.084, 72.042, 80.   ]),\n",
       " <BarContainer object of 10 artists>)"
      ]
     },
     "execution_count": 161,
     "metadata": {},
     "output_type": "execute_result"
    },
    {
     "data": {
      "image/png": "[encoded data removed]",
      "text/plain": [
       "<Figure size 432x288 with 1 Axes>"
      ]
     },
     "metadata": {
      "needs_background": "light"
     },
     "output_type": "display_data"
    }
   ],
   "source": [
    "plt.hist(df_use_new['Age'])"
   ]
  },
  {
   "cell_type": "code",
   "execution_count": 147,
   "id": "5d218a6d",
   "metadata": {},
   "outputs": [
    {
     "name": "stdout",
     "output_type": "stream",
     "text": [
      "Coefficients:  [ 6.75935681e-06 -1.86414395e-01  4.82743435e-01 -5.31572511e-03\n",
      "  9.33024820e-05]\n",
      "Variance score: 0.4343959636137743\n"
     ]
    }
   ],
   "source": [
    "reg = linear_model.LinearRegression()\n",
    "reg.fit(x_train, y_train)\n",
    "print('Coefficients: ', reg.coef_)\n",
    "print('Variance score: {}'.format(reg.score(x_val, y_val)))"
   ]
  },
  {
   "cell_type": "code",
   "execution_count": 242,
   "id": "8ab80a6b",
   "metadata": {},
   "outputs": [
    {
     "name": "stdout",
     "output_type": "stream",
     "text": [
      "Wall time: 232 ms\n",
      "Training set score : 0.8417508417508418\n",
      "OOB Score : 0.8249158249158249\n"
     ]
    }
   ],
   "source": [
    "m = RandomForestClassifier(n_estimators = 150, max_features = 4 , max_depth = 5, \n",
    "                           max_samples = 590, oob_score = True, random_state = 2) #min_samples_leaf = 2\n",
    "\n",
    "%time m.fit(x_train, y_train)\n",
    "print('Training set score :',m.score(x_train, y_train))\n",
    "#print('Validation set score :',m.score(x_val, y_val))\n",
    "print('OOB Score :', m.oob_score_)\n"
   ]
  },
  {
   "cell_type": "code",
   "execution_count": 235,
   "id": "84b9be4b",
   "metadata": {},
   "outputs": [],
   "source": [
    "def data_clean_test():\n",
    "    df = pd.read_csv('C:\\\\Users\\\\Naveen Kumar\\\\OneDrive - RxLogix\\\\Documents\\\\PersoMe\\\\MLcodes\\\\Titanic ML\\\\test.csv')\n",
    "    df_use = df.drop(columns = ['Name','Ticket','Cabin','PassengerId'])\n",
    "    df_use['Sex'] = [1 if x == 'female' else 0 for x in df_use['Sex']]\n",
    "    dummies = pd.get_dummies(df_use.Embarked, dummy_na = False)\n",
    "    df_use_new_test = pd.concat([df_use, dummies], axis = 1)\n",
    "    #df_use_new_test = df_use\n",
    "    df_use_new_test.drop(columns = ['Embarked','Fare'], inplace = True)\n",
    "    df_use_new_test['Age'].fillna(df_use_new['Age'].mean(), inplace = True)\n",
    "    #df_use_new_test['Fare'].fillna(df_use_new['Fare'].mean(), inplace = True)\n",
    "    #df_use_new = shuffle(df_use_new)\n",
    "    return df_use_new_test\n",
    "\n",
    "\n",
    "df_use_new_test = data_clean_test()"
   ]
  },
  {
   "cell_type": "code",
   "execution_count": 236,
   "id": "455008b8",
   "metadata": {},
   "outputs": [],
   "source": [
    "df_test = pd.read_csv('C:\\\\Users\\\\Naveen Kumar\\\\OneDrive - RxLogix\\\\Documents\\\\PersoMe\\\\MLcodes\\\\Titanic ML\\\\test.csv')"
   ]
  },
  {
   "cell_type": "code",
   "execution_count": 237,
   "id": "11f7d918",
   "metadata": {},
   "outputs": [
    {
     "name": "stdout",
     "output_type": "stream",
     "text": [
      "(418, 2)\n"
     ]
    }
   ],
   "source": [
    "predictions = m.predict(df_use_new_test)\n",
    "Survived = pd.Series(predictions)\n",
    "Survived.name = 'Survived'\n",
    "final_pred = pd.concat([df_test['PassengerId'],Survived], axis = 1)\n",
    "print(final_pred.shape)"
   ]
  },
  {
   "cell_type": "code",
   "execution_count": 238,
   "id": "493a2f2b",
   "metadata": {},
   "outputs": [],
   "source": [
    "final_pred.to_csv('C:\\\\Users\\\\Naveen Kumar\\\\OneDrive - RxLogix\\\\Documents\\\\PersoMe\\\\MLcodes\\\\Titanic ML\\\\Submission7.csv',\n",
    "                  index = False)"
   ]
  },
  {
   "cell_type": "code",
   "execution_count": 208,
   "id": "8fff3db3",
   "metadata": {},
   "outputs": [
    {
     "name": "stdout",
     "output_type": "stream",
     "text": [
      "Wall time: 24min 4s\n",
      "Best Params : {'max_depth': 72, 'max_features': 'auto', 'n_estimators': 55}\n",
      "Best score : 0.8245696400625977\n"
     ]
    }
   ],
   "source": [
    "rfc = RandomForestClassifier()\n",
    "\n",
    "params = {'n_estimators' : list(range(50,110,5)), 'max_features' : ['auto','sqrt','log2'], 'max_depth' : list(range(10,80,2))}\n",
    "\n",
    "clf = GridSearchCV(rfc, params, scoring = 'accuracy', cv = 10)\n",
    "\n",
    "%time clf.fit(x_train, y_train)\n",
    "\n",
    "print('Best Params :', clf.best_params_)\n",
    "print('Best score :', clf.best_score_)"
   ]
  },
  {
   "cell_type": "code",
   "execution_count": 123,
   "id": "b596b58e",
   "metadata": {},
   "outputs": [
    {
     "data": {
      "text/html": [
       "<div>\n",
       "<style scoped>\n",
       "    .dataframe tbody tr th:only-of-type {\n",
       "        vertical-align: middle;\n",
       "    }\n",
       "\n",
       "    .dataframe tbody tr th {\n",
       "        vertical-align: top;\n",
       "    }\n",
       "\n",
       "    .dataframe thead th {\n",
       "        text-align: right;\n",
       "    }\n",
       "</style>\n",
       "<table border=\"1\" class=\"dataframe\">\n",
       "  <thead>\n",
       "    <tr style=\"text-align: right;\">\n",
       "      <th></th>\n",
       "      <th>PassengerId</th>\n",
       "      <th>Survived</th>\n",
       "      <th>Pclass</th>\n",
       "      <th>Sex</th>\n",
       "      <th>Age</th>\n",
       "      <th>Fare</th>\n",
       "    </tr>\n",
       "  </thead>\n",
       "  <tbody>\n",
       "    <tr>\n",
       "      <th>643</th>\n",
       "      <td>644</td>\n",
       "      <td>1</td>\n",
       "      <td>3</td>\n",
       "      <td>0</td>\n",
       "      <td>28.0</td>\n",
       "      <td>56.4958</td>\n",
       "    </tr>\n",
       "    <tr>\n",
       "      <th>212</th>\n",
       "      <td>213</td>\n",
       "      <td>0</td>\n",
       "      <td>3</td>\n",
       "      <td>0</td>\n",
       "      <td>22.0</td>\n",
       "      <td>7.2500</td>\n",
       "    </tr>\n",
       "    <tr>\n",
       "      <th>98</th>\n",
       "      <td>99</td>\n",
       "      <td>1</td>\n",
       "      <td>2</td>\n",
       "      <td>1</td>\n",
       "      <td>34.0</td>\n",
       "      <td>23.0000</td>\n",
       "    </tr>\n",
       "    <tr>\n",
       "      <th>521</th>\n",
       "      <td>522</td>\n",
       "      <td>0</td>\n",
       "      <td>3</td>\n",
       "      <td>0</td>\n",
       "      <td>22.0</td>\n",
       "      <td>7.8958</td>\n",
       "    </tr>\n",
       "    <tr>\n",
       "      <th>252</th>\n",
       "      <td>253</td>\n",
       "      <td>0</td>\n",
       "      <td>1</td>\n",
       "      <td>0</td>\n",
       "      <td>62.0</td>\n",
       "      <td>26.5500</td>\n",
       "    </tr>\n",
       "  </tbody>\n",
       "</table>\n",
       "</div>"
      ],
      "text/plain": [
       "     PassengerId  Survived  Pclass  Sex   Age     Fare\n",
       "643          644         1       3    0  28.0  56.4958\n",
       "212          213         0       3    0  22.0   7.2500\n",
       "98            99         1       2    1  34.0  23.0000\n",
       "521          522         0       3    0  22.0   7.8958\n",
       "252          253         0       1    0  62.0  26.5500"
      ]
     },
     "execution_count": 123,
     "metadata": {},
     "output_type": "execute_result"
    }
   ],
   "source": [
    "df_use_new.head()"
   ]
  },
  {
   "cell_type": "code",
   "execution_count": 109,
   "id": "6152dec1",
   "metadata": {},
   "outputs": [],
   "source": [
    "## finding correlation between vairables\n",
    "from scipy.stats import pearsonr"
   ]
  },
  {
   "cell_type": "code",
   "execution_count": 122,
   "id": "f56fb142",
   "metadata": {},
   "outputs": [
    {
     "name": "stdout",
     "output_type": "stream",
     "text": [
      "0.5433513806577555\n"
     ]
    }
   ],
   "source": [
    "corr1,_ = pearsonr(df_use_new.Survived, df_use_new.Sex)\n",
    "print(corr1)"
   ]
  },
  {
   "cell_type": "code",
   "execution_count": 113,
   "id": "4c5428f5",
   "metadata": {},
   "outputs": [
    {
     "name": "stdout",
     "output_type": "stream",
     "text": [
      "-0.06491041993052586\n"
     ]
    }
   ],
   "source": [
    "corr2,_ = pearsonr(df_use_new.Survived, df_use_new.Age)\n",
    "print(corr2)"
   ]
  },
  {
   "cell_type": "code",
   "execution_count": 128,
   "id": "6615971c",
   "metadata": {},
   "outputs": [
    {
     "name": "stdout",
     "output_type": "stream",
     "text": [
      "0.09668842218036486\n"
     ]
    }
   ],
   "source": [
    "corr3,_ = pearsonr(df_use_new.Age, df_use_new.Fare)\n",
    "print(corr3)"
   ]
  },
  {
   "cell_type": "code",
   "execution_count": 130,
   "id": "e4479590",
   "metadata": {},
   "outputs": [
    {
     "data": {
      "text/plain": [
       "<matplotlib.collections.PathCollection at 0x1e01b126340>"
      ]
     },
     "execution_count": 130,
     "metadata": {},
     "output_type": "execute_result"
    },
    {
     "data": {
      "image/png": "[encoded data removed]",
      "text/plain": [
       "<Figure size 432x288 with 1 Axes>"
      ]
     },
     "metadata": {
      "needs_background": "light"
     },
     "output_type": "display_data"
    }
   ],
   "source": [
    "plt.scatter(df_use_new.Pclass, df_use_new.Fare)"
   ]
  },
  {
   "cell_type": "code",
   "execution_count": 121,
   "id": "c56b3ca4",
   "metadata": {},
   "outputs": [
    {
     "name": "stdout",
     "output_type": "stream",
     "text": [
      "     PassengerId  Survived  Pclass       Age        Fare\n",
      "Sex                                                     \n",
      "0         262043       109    1379  17391.17  14727.2865\n",
      "1         135343       233     678   8770.00  13966.6628\n"
     ]
    }
   ],
   "source": [
    "print(df_use_new.groupby('Sex').sum())"
   ]
  },
  {
   "cell_type": "code",
   "execution_count": 125,
   "id": "42c8d30b",
   "metadata": {},
   "outputs": [],
   "source": [
    "import seaborn as sn\n",
    "#sn.catplot(y = df_use_new.Survived, x = df_use_new.Age)"
   ]
  },
  {
   "cell_type": "code",
   "execution_count": 126,
   "id": "18ae3a8e",
   "metadata": {},
   "outputs": [
    {
     "data": {
      "text/plain": [
       "<matplotlib.collections.PathCollection at 0x1e018fb2190>"
      ]
     },
     "execution_count": 126,
     "metadata": {},
     "output_type": "execute_result"
    },
    {
     "data": {
      "image/png": "[encoded data removed]",
      "text/plain": [
       "<Figure size 432x288 with 1 Axes>"
      ]
     },
     "metadata": {
      "needs_background": "light"
     },
     "output_type": "display_data"
    }
   ],
   "source": [
    "import matplotlib.pyplot as plt\n",
    "plt.scatter(df_use_new.Age, df_use_new.Survived)"
   ]
  },
  {
   "cell_type": "code",
   "execution_count": 41,
   "id": "3cf891e9",
   "metadata": {},
   "outputs": [],
   "source": [
    "estimator = m.estimators_[5]\n",
    "\n",
    "\n",
    "# Export as dot file\n",
    "export_graphviz(estimator, out_file='tree.dot', \n",
    "                feature_names = None,\n",
    "                class_names = None,\n",
    "                rounded = True, proportion = False, \n",
    "                precision = 2, filled = True)\n",
    "\n",
    "# Convert to png using system command (requires Graphviz)\n",
    "#from subprocess import check_call\n",
    "#check_call(['dot', '-Tpng', 'C:\\\\Users\\\\Naveen Kumar\\\\OneDrive - RxLogix\\\\Documents\\\\PersoMe\\\\MLcodes\\\\Bulldozers\\\\tree.dot',\n",
    "#      '-o', 'C:\\\\Users\\\\Naveen Kumar\\\\OneDrive - RxLogix\\\\Documents\\\\PersoMe\\\\MLcodes\\\\Bulldozers\\\\tree.png', '-Gdpi=600'])\n",
    "\n",
    "import pydot\n",
    "\n",
    "(graph,) = pydot.graph_from_dot_file('C:\\\\tree.dot')\n",
    "#graph.write('C:\\\\tree.png')\n",
    "\n",
    "# Display in jupyter notebook\n",
    "#from IPython.display import Image\n",
    "#Image(filename = 'tree.png')"
   ]
  },
  {
   "cell_type": "code",
   "execution_count": 48,
   "id": "91af58e7",
   "metadata": {},
   "outputs": [],
   "source": [
    "#graph.write('C:\\\\trees.png', format = 'pdf')"
   ]
  },
  {
   "cell_type": "code",
   "execution_count": 40,
   "id": "e0e106c9",
   "metadata": {},
   "outputs": [
    {
     "data": {
      "image/png": "[encoded data removed]",
      "text/plain": [
       "<IPython.core.display.Image object>"
      ]
     },
     "execution_count": 40,
     "metadata": {},
     "output_type": "execute_result"
    }
   ],
   "source": [
    "from IPython.display import Image\n",
    "Image(filename = 'trees.png')"
   ]
  },
  {
   "cell_type": "code",
   "execution_count": 33,
   "id": "b19c5e67",
   "metadata": {},
   "outputs": [
    {
     "data": {
      "text/plain": [
       "pydot.Dot"
      ]
     },
     "execution_count": 33,
     "metadata": {},
     "output_type": "execute_result"
    }
   ],
   "source": [
    "type(graph)"
   ]
  },
  {
   "cell_type": "code",
   "execution_count": 34,
   "id": "8e5ded72",
   "metadata": {},
   "outputs": [
    {
     "name": "stdout",
     "output_type": "stream",
     "text": [
      "digraph Tree {\n",
      "node [color=\"black\", fontname=\"helvetica\", shape=box, style=\"filled, rounded\"];\n",
      "edge [fontname=\"helvetica\"];\n",
      "0 [fillcolor=\"#f5ccaf\", label=\"X[6] <= 10.87\\ngini = 0.47\\nsamples = 457\\nvalue = [446, 266]\"];\n",
      "1 [fillcolor=\"#eca16c\", label=\"X[2] <= 0.5\\ngini = 0.32\\nsamples = 186\\nvalue = [234, 60]\"];\n",
      "0 -> 1  [headlabel=\"True\", labelangle=45, labeldistance=\"2.5\"];\n",
      "2 [fillcolor=\"#e88f4f\", label=\"X[3] <= 28.5\\ngini = 0.18\\nsamples = 143\\nvalue = [200, 22]\"];\n",
      "1 -> 2;\n",
      "3 [fillcolor=\"#e68742\", label=\"X[0] <= 203.0\\ngini = 0.08\\nsamples = 93\\nvalue = [137, 6]\"];\n",
      "2 -> 3;\n",
      "4 [fillcolor=\"#e58139\", label=\"gini = 0.0\\nsamples = 22\\nvalue = [37, 0]\"];\n",
      "3 -> 4;\n",
      "5 [fillcolor=\"#e78945\", label=\"gini = 0.11\\nsamples = 71\\nvalue = [100, 6]\"];\n",
      "3 -> 5;\n",
      "6 [fillcolor=\"#eca16b\", label=\"X[0] <= 286.5\\ngini = 0.32\\nsamples = 50\\nvalue = [63, 16]\"];\n",
      "2 -> 6;\n",
      "7 [fillcolor=\"#e58139\", label=\"gini = 0.0\\nsamples = 18\\nvalue = [30, 0]\"];\n",
      "6 -> 7;\n",
      "8 [fillcolor=\"#f2be99\", label=\"gini = 0.44\\nsamples = 32\\nvalue = [33, 16]\"];\n",
      "6 -> 8;\n",
      "9 [fillcolor=\"#eaf5fc\", label=\"X[5] <= 0.5\\ngini = 0.5\\nsamples = 43\\nvalue = [34, 38]\"];\n",
      "1 -> 9;\n",
      "10 [fillcolor=\"#d0e8f9\", label=\"X[6] <= 8.04\\ngini = 0.49\\nsamples = 41\\nvalue = [29, 38]\"];\n",
      "9 -> 10;\n",
      "11 [fillcolor=\"#92c9f1\", label=\"gini = 0.43\\nsamples = 27\\nvalue = [13, 29]\"];\n",
      "10 -> 11;\n",
      "12 [fillcolor=\"#f4c8a8\", label=\"gini = 0.46\\nsamples = 14\\nvalue = [16, 9]\"];\n",
      "10 -> 12;\n",
      "13 [fillcolor=\"#e58139\", label=\"gini = 0.0\\nsamples = 2\\nvalue = [5, 0]\"];\n",
      "9 -> 13;\n",
      "14 [fillcolor=\"#fefbf9\", label=\"X[1] <= 2.5\\ngini = 0.5\\nsamples = 271\\nvalue = [212, 206]\"];\n",
      "0 -> 14  [headlabel=\"False\", labelangle=\"-45\", labeldistance=\"2.5\"];\n",
      "15 [fillcolor=\"#cbe5f8\", label=\"X[6] <= 52.28\\ngini = 0.49\\nsamples = 189\\nvalue = [122, 165]\"];\n",
      "14 -> 15;\n",
      "16 [fillcolor=\"#f7fbfe\", label=\"X[3] <= 24.5\\ngini = 0.5\\nsamples = 117\\nvalue = [92, 96]\"];\n",
      "15 -> 16;\n",
      "17 [fillcolor=\"#4da7e8\", label=\"gini = 0.17\\nsamples = 19\\nvalue = [3, 30]\"];\n",
      "16 -> 17;\n",
      "18 [fillcolor=\"#f8decc\", label=\"gini = 0.49\\nsamples = 98\\nvalue = [89, 66]\"];\n",
      "16 -> 18;\n",
      "19 [fillcolor=\"#8fc8f0\", label=\"X[1] <= 1.5\\ngini = 0.42\\nsamples = 72\\nvalue = [30, 69]\"];\n",
      "15 -> 19;\n",
      "20 [fillcolor=\"#88c4ef\", label=\"gini = 0.41\\nsamples = 68\\nvalue = [27, 68]\"];\n",
      "19 -> 20;\n",
      "21 [fillcolor=\"#eeab7b\", label=\"gini = 0.38\\nsamples = 4\\nvalue = [3, 1]\"];\n",
      "19 -> 21;\n",
      "22 [fillcolor=\"#f1ba93\", label=\"X[6] <= 13.91\\ngini = 0.43\\nsamples = 82\\nvalue = [90, 41]\"];\n",
      "14 -> 22;\n",
      "23 [fillcolor=\"#399de5\", label=\"gini = 0.0\\nsamples = 5\\nvalue = [0, 9]\"];\n",
      "22 -> 23;\n",
      "24 [fillcolor=\"#eeae7f\", label=\"X[4] <= 2.5\\ngini = 0.39\\nsamples = 77\\nvalue = [90, 32]\"];\n",
      "22 -> 24;\n",
      "25 [fillcolor=\"#f1bc96\", label=\"gini = 0.43\\nsamples = 58\\nvalue = [64, 30]\"];\n",
      "24 -> 25;\n",
      "26 [fillcolor=\"#e78b48\", label=\"gini = 0.13\\nsamples = 19\\nvalue = [26, 2]\"];\n",
      "24 -> 26;\n",
      "}\n",
      "\n"
     ]
    }
   ],
   "source": [
    "print(graph)"
   ]
  }
 ],
 "metadata": {
  "kernelspec": {
   "display_name": "Python 3 (ipykernel)",
   "language": "python",
   "name": "python3"
  },
  "language_info": {
   "codemirror_mode": {
    "name": "ipython",
    "version": 3
   },
   "file_extension": ".py",
   "mimetype": "text/x-python",
   "name": "python",
   "nbconvert_exporter": "python",
   "pygments_lexer": "ipython3",
   "version": "3.9.4"
  }
 },
 "nbformat": 4,
 "nbformat_minor": 5
}
